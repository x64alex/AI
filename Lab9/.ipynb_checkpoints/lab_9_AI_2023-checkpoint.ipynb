{
 "cells": [
  {
   "cell_type": "markdown",
   "id": "f61c3098",
   "metadata": {},
   "source": [
    "# Search spaces\n",
    "\n",
    "For meany problems the search space can be represented as a tree, where each node represents a state or a partial solution of the problem, and each edge represents a possible transition from one state to another.\n",
    "\n",
    "So one form for this tree is when the root of the tree represents the initial state of the problem, and the leaves of the tree represent the final or goal states. The idea is to traverse the tree in a systematic way to explore all possible solutions until a goal state is reached.\n",
    "\n",
    "The tree is constructed by applying all possible actions from the current state to generate the next set of possible states. Each possible state becomes a child node of the current state in the tree. This process continues until a goal state is reached or until the search reaches a dead-end.\n",
    "\n",
    "One advantage of organizing the search space as a tree is that it allows for **systematic exploration** of the search space. This means that the search can be optimized to explore the most promising branches first, which can reduce the overall search time. Additionally, the tree structure allows for efficient pruning of unproductive branches, which further reduces the search space and improves the search time.\n",
    "\n",
    "Some examples of problems where the search space can be organized as a tree include pathfinding problems, puzzle solving problems, and game playing problems.\n",
    "\n",
    "### Examples:\n",
    "\n",
    "1. Compute the Fibonacci sequence --  a sequence in which each number is the sum of the two preceding ones.\n",
    "\n",
    "$f(0) = 0$\n",
    "\n",
    "$f(1) = 1$\n",
    "\n",
    "$f(n) = f(n-1) + f(n-2)$\n",
    "\n",
    "\n",
    "*Example:* \n",
    "\n",
    "$f(5) = f(4)+f(3)$ \n",
    "\n",
    "...\n",
    "\n",
    "**the search tree for fibonacci**"
   ]
  },
  {
   "cell_type": "code",
   "execution_count": 1,
   "id": "f797d7bc",
   "metadata": {},
   "outputs": [
    {
     "name": "stdout",
     "output_type": "stream",
     "text": [
      "f(5)\n",
      "├── f(3)\n",
      "│   ├── f(1)=1\n",
      "│   └── f(2)\n",
      "│       ├── f(0)=0\n",
      "│       └── f(1)=1\n",
      "└── f(4)\n",
      "    ├── f(2)\n",
      "    │   ├── f(0)=0\n",
      "    │   └── f(1)=1\n",
      "    └── f(3)\n",
      "        ├── f(1)=1\n",
      "        └── f(2)\n",
      "            ├── f(0)=0\n",
      "            └── f(1)=1\n",
      "\n"
     ]
    }
   ],
   "source": [
    " from treelib import Node, Tree\n",
    "\n",
    " tree = Tree()\n",
    "\n",
    " tree.create_node(\"f(5)\", \"0\")  # No parent means its the root node\n",
    " tree.create_node(\"f(4)\",  \"0_0\"   , parent=\"0\")\n",
    " tree.create_node(\"f(3)\",  \"0_1\"   , parent=\"0\")\n",
    " tree.create_node(\"f(3)\",  \"0_0_0\"  , parent=\"0_0\")\n",
    " tree.create_node(\"f(2)\",  \"0_0_1\"   , parent=\"0_0\")\n",
    " tree.create_node(\"f(2)\",  \"0_1_0\"   , parent=\"0_1\")\n",
    " tree.create_node(\"f(1)=1\",  \"0_1_1\"   , parent=\"0_1\")\n",
    " tree.create_node(\"f(2)\",  \"0_0_0_0\"   , parent=\"0_0_0\")\n",
    " tree.create_node(\"f(1)=1\",  \"0_0_0_1\"   , parent=\"0_0_0\")\n",
    " tree.create_node(\"f(1)=1\",  \"0_0_1_0\"   , parent=\"0_0_1\")\n",
    " tree.create_node(\"f(0)=0\",  \"0_0_1_1\"   , parent=\"0_0_1\")\n",
    " tree.create_node(\"f(1)=1\",  \"0_1_0_0\"   , parent=\"0_1_0\")\n",
    " tree.create_node(\"f(0)=0\",  \"0_1_0_1\"   , parent=\"0_1_0\")\n",
    " tree.create_node(\"f(1)=1\",  \"0_0_0_0_0\"   , parent=\"0_0_0_0\")\n",
    " tree.create_node(\"f(0)=0\",  \"0_0_0_0_1\"   , parent=\"0_0_0_0\")\n",
    " \n",
    "\n",
    " tree.show()"
   ]
  },
  {
   "cell_type": "markdown",
   "id": "60e27513",
   "metadata": {},
   "source": [
    "Observe that large sub-trees are repeating so it makes no sense to compute twice the same part. Usually such behavior is typical for dynamic programming.\n",
    "\n",
    "2. For the $n-queen$ problem\n",
    "\n",
    "There are several ways to do it but the trees will have different sizes.\n",
    "\n",
    "I. A node will contain a board. In the root we have the empty board. For each child we add a queen on the table on an empty position. \n",
    "\n",
    "This tree has a huge number of nodes.\n",
    "\n",
    "II. A node will be a sequence of maxim $n$ numbers. In the root the sequence will be empty. Each child is formed by adding a number form 1 to n to the sequence from the parent, representing the column of the new placed queen. The tree will have n+1 levels (with the root level).\n",
    "\n",
    "III. Each node is a possible solution represented by a permutation. In the root we have the identical permutation. Each child is formed from the parent by switching the values from two positions in such a way that always we always switch a ordered values (a smaller one with a bigger one).\n",
    "\n",
    "This tree has $n!$ nodes.\n",
    "\n",
    "For $n=3$ we have the following tree:"
   ]
  },
  {
   "cell_type": "code",
   "execution_count": 2,
   "id": "ac83f058",
   "metadata": {},
   "outputs": [
    {
     "name": "stdout",
     "output_type": "stream",
     "text": [
      "(1,2,3)\n",
      "├── (1,3,2)\n",
      "│   └── (3,1,2)\n",
      "├── (2,1,3)\n",
      "│   └── (2,3,1)\n",
      "└── (3,2,1)\n",
      "\n"
     ]
    }
   ],
   "source": [
    "tree = Tree()\n",
    "\n",
    "tree.create_node(\"(1,2,3)\", \"0\")  # No parent means its the root node\n",
    "tree.create_node(\"(2,1,3)\",  \"0_0\"   , parent=\"0\")\n",
    "tree.create_node(\"(3,2,1)\",  \"0_1\"   , parent=\"0\")\n",
    "tree.create_node(\"(1,3,2)\",  \"0_2\"   , parent=\"0\")\n",
    "tree.create_node(\"(2,3,1)\",  \"0_0_0\"   , parent=\"0_0\")\n",
    "tree.create_node(\"(3,1,2)\",  \"0_2_0\"   , parent=\"0_2\")\n",
    " \n",
    "tree.show()"
   ]
  },
  {
   "cell_type": "markdown",
   "id": "878f8749",
   "metadata": {},
   "source": [
    "\n",
    "## Exercise 1:\n",
    "\n",
    "**Consider the following classic problem:**\n",
    "\n",
    "Given the dimension of a sequence of matrices in an array $M[]$, where the dimension of the ith matrix is ($M[i-1] \\times M[i]$), the task is to find the most efficient way to multiply these matrices together such that the total number of element multiplications is minimum.\n",
    "\n",
    "**Examples:**\n",
    "____________________________\n",
    "\n",
    "Input: $M = [40, 20, 30, 10, 30]$\n",
    "\n",
    "Output: $26000$\n",
    "\n",
    "Explanation: There are 4 matrices of dimensions $40 \\times 20$, $20 \\times 30$, $30\\times 10$, $10 \\times 30$.\n",
    "\n",
    "Let the input 4 matrices be A, B, C and D.\n",
    "\n",
    "The minimum number of multiplications are obtained by putting parenthesis in following way $(A\\times (B\\times C)) \\times D$.\n",
    "\n",
    "The minimum is $20*30*10 + 40*20*10 + 40*10*30$\n",
    "\n",
    "___________________________\n",
    "\n",
    "Input: $M = [1, 2, 3, 4, 3]$\n",
    "\n",
    "Output: $30$\n",
    "\n",
    "Explanation: There are 4 matrices of dimensions $1 \\times 2$, $2 \\times 3$, $3 \\times 4$, $4 \\times 3$. \n",
    "\n",
    "Let the input 4 matrices be A, B, C and D.  \n",
    "\n",
    "The minimum number of multiplications are obtained by putting parenthesis in following way $((A \\times B) \\times C) \\times D$.\n",
    "\n",
    "The minimum number is $1*2*3 + 1*3*4 + 1*4*3 = 30$\n",
    "___________________________________\n",
    "\n",
    "**Task:**\n",
    "\n",
    "Justify the use of dynamic programing for this problem.\n",
    "\n",
    "*Hints:* write a proper search tree for this problem; this problem is very similar with the generation of Fibonacci numbers; justify the memorization according to the particularities of the search tree.  \n",
    "\n",
    "## Exercise 2.\n",
    "\n",
    "Describe the search tree for the travel salesman problem in 2 ways - one with nodes containing possible partial solutions and one with full possible solutions. "
   ]
  },
  {
   "cell_type": "code",
   "execution_count": 10,
   "id": "7ba3e084",
   "metadata": {},
   "outputs": [
    {
     "name": "stdout",
     "output_type": "stream",
     "text": [
      "X\n",
      "├── D\n",
      "└── X\n",
      "    ├── C\n",
      "    └── X\n",
      "        ├── A\n",
      "        └── B\n",
      "\n"
     ]
    }
   ],
   "source": [
    "#Exercise 1:\n",
    "tree = Tree()\n",
    "\n",
    "tree.create_node(\"X\", \"0\")  # No parent means its the root node\n",
    "tree.create_node(\"X\",  \"0_0\"   , parent=\"0\")\n",
    "tree.create_node(\"D\",  \"0_1\"   , parent=\"0\")\n",
    "tree.create_node(\"X\",  \"0_0_0\"  , parent=\"0_0\")\n",
    "tree.create_node(\"C\",  \"0_0_1\"   , parent=\"0_0\")\n",
    "tree.create_node(\"A\",  \"0_0_0_0\"   , parent=\"0_0_0\")\n",
    "tree.create_node(\"B\",  \"0_0_0_1\"   , parent=\"0_0_0\")\n",
    "\n",
    " \n",
    "\n",
    "tree.show()\n"
   ]
  },
  {
   "cell_type": "markdown",
   "id": "06f7c1ab",
   "metadata": {},
   "source": [
    "#Exercise 2:\n",
    "\n",
    "\n",
    "The Traveling Salesman Problem (TSP) is a classic problem in computer science and optimization theory. It involves finding the shortest possible route that visits a given set of cities and returns to the starting city.\n",
    "\n",
    "There are two common ways to represent the search tree for the TSP: one with nodes containing possible partial solutions and one with nodes containing full possible solutions.\n",
    "\n",
    "Search tree with nodes containing possible partial solutions:\n",
    "In this representation, each node in the search tree corresponds to a partial tour of the cities, where the tour may or may not be complete. The root node of the tree corresponds to an empty tour, and the leaves of the tree correspond to complete tours that visit all the cities exactly once. Each non-leaf node in the tree corresponds to a partial tour, and the children of a node are obtained by adding one more city to the partial tour represented by the parent node. For example, consider a TSP instance with four cities labeled A, B, C, and D. The root node of the search tree is an empty tour (represented as {}), and its children are {A}, {B}, {C}, and {D}. The children of the node {A} are {A,B}, {A,C}, and {A,D}, and so on.\n",
    "\n",
    "css\n",
    "Copy code\n",
    "     {}\n",
    "  /  |  \\  \\\n",
    " A   B  C  D\n",
    "/|\\ /|\\\n",
    "AB AC AD BC BD CD\n",
    "\n",
    "Search tree with nodes containing full possible solutions:\n",
    "In this representation, each node in the search tree corresponds to a complete tour of the cities. The root node of the tree corresponds to an arbitrary tour that visits all the cities exactly once. The children of a node are obtained by performing all possible 2-opt moves on the tour represented by the parent node. A 2-opt move involves removing two edges from the tour and reconnecting them in a different way to create a new tour. For example, consider a TSP instance with four cities labeled A, B, C, and D. The root node of the search tree is a tour that visits the cities in the order ABCD. The children of this node are obtained by performing all possible 2-opt moves on this tour, which include ABDC, ACBD, and ADBC.\n",
    "\n",
    "Copy code\n",
    "   ABCD\n",
    "  / | \\\n",
    "ABDC ACBD ADBC (2-opt moves)"
   ]
  },
  {
   "cell_type": "code",
   "execution_count": null,
   "id": "d1253ca6",
   "metadata": {},
   "outputs": [],
   "source": []
  }
 ],
 "metadata": {
  "kernelspec": {
   "display_name": "Python 3 (ipykernel)",
   "language": "python",
   "name": "python3"
  },
  "language_info": {
   "codemirror_mode": {
    "name": "ipython",
    "version": 3
   },
   "file_extension": ".py",
   "mimetype": "text/x-python",
   "name": "python",
   "nbconvert_exporter": "python",
   "pygments_lexer": "ipython3",
   "version": "3.9.13"
  }
 },
 "nbformat": 4,
 "nbformat_minor": 5
}
